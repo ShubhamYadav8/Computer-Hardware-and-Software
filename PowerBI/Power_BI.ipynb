{
  "nbformat": 4,
  "nbformat_minor": 0,
  "metadata": {
    "colab": {
      "provenance": []
    },
    "kernelspec": {
      "name": "python3",
      "display_name": "Python 3"
    },
    "language_info": {
      "name": "python"
    }
  },
  "cells": [
    {
      "cell_type": "code",
      "execution_count": null,
      "metadata": {
        "id": "uhGRll_LkXF0",
        "colab": {
          "base_uri": "https://localhost:8080/"
        },
        "outputId": "2a7ba3ba-5cef-45ef-b4a2-4e49121b1d98"
      },
      "outputs": [
        {
          "output_type": "stream",
          "name": "stdout",
          "text": [
            "Accuracy: 0.7580645161290323\n",
            "\n",
            "Classification Report:\n",
            "              precision    recall  f1-score   support\n",
            "\n",
            "           N       0.67      0.50      0.57        20\n",
            "           Y       0.79      0.88      0.83        42\n",
            "\n",
            "    accuracy                           0.76        62\n",
            "   macro avg       0.73      0.69      0.70        62\n",
            "weighted avg       0.75      0.76      0.75        62\n",
            "\n",
            "\n",
            "Confusion Matrix:\n",
            "[[10 10]\n",
            " [ 5 37]]\n"
          ]
        }
      ],
      "source": [
        "import pandas as pd\n",
        "from sklearn.model_selection import train_test_split\n",
        "from sklearn.tree import DecisionTreeClassifier\n",
        "from sklearn.metrics import accuracy_score, classification_report, confusion_matrix\n",
        "\n",
        "# Load the loan prediction data\n",
        "data = pd.read_csv('/content/loan_data.csv')\n",
        "\n",
        "# Remove rows with missing values\n",
        "data.dropna(inplace=True)\n",
        "\n",
        "# Separate features (X) and target variable (y)\n",
        "X = data.drop('Loan_Status', axis=1)\n",
        "y = data['Loan_Status']\n",
        "\n",
        "# Encode categorical variables (if needed)\n",
        "X = pd.get_dummies(X)\n",
        "\n",
        "# Split the data into training and testing sets\n",
        "X_train, X_test, y_train, y_test = train_test_split(X, y, test_size=0.2, random_state=42)\n",
        "\n",
        "# Initialize the decision tree classifier\n",
        "clf = DecisionTreeClassifier(random_state=42)\n",
        "\n",
        "# Train the classifier on the training data\n",
        "clf.fit(X_train, y_train)\n",
        "\n",
        "# Make predictions on the testing data\n",
        "y_pred = clf.predict(X_test)\n",
        "\n",
        "# Evaluate the model\n",
        "accuracy = accuracy_score(y_test, y_pred)\n",
        "print('Accuracy:', accuracy)\n",
        "\n",
        "print('\\nClassification Report:')\n",
        "print(classification_report(y_test, y_pred))\n",
        "\n",
        "print('\\nConfusion Matrix:')\n",
        "print(confusion_matrix(y_test, y_pred))\n",
        "\n",
        "# Add a column for predicted outputs to the DataFrame\n",
        "data['Predicted_Output'] = clf.predict(X)\n",
        "\n",
        "# Filter the DataFrame to include only rows from the testing set\n",
        "tested_data = data.loc[X_test.index]\n",
        "\n",
        "# Save the DataFrame with actual and predicted values for the tested data to a new CSV file\n",
        "tested_data.to_csv('tested_loan_prediction_actual_vs_predicted_with_all_columns.csv', index=False)\n"
      ]
    }
  ]
}