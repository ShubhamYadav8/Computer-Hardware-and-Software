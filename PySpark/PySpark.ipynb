{
  "nbformat": 4,
  "nbformat_minor": 0,
  "metadata": {
    "colab": {
      "provenance": []
    },
    "kernelspec": {
      "name": "python3",
      "display_name": "Python 3"
    },
    "language_info": {
      "name": "python"
    }
  },
  "cells": [
    {
      "cell_type": "code",
      "execution_count": null,
      "metadata": {
        "colab": {
          "base_uri": "https://localhost:8080/"
        },
        "id": "ZWx9BtkdFqzr",
        "outputId": "347d30ec-32c2-4277-9eed-c068b8b6ca32"
      },
      "outputs": [
        {
          "output_type": "stream",
          "name": "stdout",
          "text": [
            "Collecting pyspark\n",
            "  Downloading pyspark-3.5.1.tar.gz (317.0 MB)\n",
            "\u001b[2K     \u001b[90m━━━━━━━━━━━━━━━━━━━━━━━━━━━━━━━━━━━━━━━━\u001b[0m \u001b[32m317.0/317.0 MB\u001b[0m \u001b[31m4.5 MB/s\u001b[0m eta \u001b[36m0:00:00\u001b[0m\n",
            "\u001b[?25h  Preparing metadata (setup.py) ... \u001b[?25l\u001b[?25hdone\n",
            "Requirement already satisfied: py4j==0.10.9.7 in /usr/local/lib/python3.10/dist-packages (from pyspark) (0.10.9.7)\n",
            "Building wheels for collected packages: pyspark\n",
            "  Building wheel for pyspark (setup.py) ... \u001b[?25l\u001b[?25hdone\n",
            "  Created wheel for pyspark: filename=pyspark-3.5.1-py2.py3-none-any.whl size=317488491 sha256=f4eeff76f33519a85c738ab478fde81aeb6b69781dea26d874256194f03864e4\n",
            "  Stored in directory: /root/.cache/pip/wheels/80/1d/60/2c256ed38dddce2fdd93be545214a63e02fbd8d74fb0b7f3a6\n",
            "Successfully built pyspark\n",
            "Installing collected packages: pyspark\n",
            "Successfully installed pyspark-3.5.1\n"
          ]
        }
      ],
      "source": [
        "pip install pyspark"
      ]
    },
    {
      "cell_type": "code",
      "source": [
        "import pyspark"
      ],
      "metadata": {
        "id": "OOioG0qLGZ73"
      },
      "execution_count": null,
      "outputs": []
    },
    {
      "cell_type": "code",
      "source": [
        "pyspark"
      ],
      "metadata": {
        "colab": {
          "base_uri": "https://localhost:8080/"
        },
        "id": "qXv5XSdzGdBH",
        "outputId": "b0f7dd8a-5c2e-4b64-ddf9-a50122926e84"
      },
      "execution_count": null,
      "outputs": [
        {
          "output_type": "execute_result",
          "data": {
            "text/plain": [
              "<module 'pyspark' from '/usr/local/lib/python3.10/dist-packages/pyspark/__init__.py'>"
            ]
          },
          "metadata": {},
          "execution_count": 3
        }
      ]
    },
    {
      "cell_type": "code",
      "source": [
        "from pyspark.sql import SparkSession"
      ],
      "metadata": {
        "id": "16tPxrreGfHL"
      },
      "execution_count": null,
      "outputs": []
    },
    {
      "cell_type": "code",
      "source": [
        "spark=SparkSession.builder.appName('Practise').getOrCreate()"
      ],
      "metadata": {
        "id": "6-fvhL2PPGPo"
      },
      "execution_count": null,
      "outputs": []
    },
    {
      "cell_type": "code",
      "source": [
        "df_pyspark=spark.read.csv('/content/Sales_Dataset.csv',header=True,inferSchema=True)"
      ],
      "metadata": {
        "id": "1A-7yafyPPus"
      },
      "execution_count": null,
      "outputs": []
    },
    {
      "cell_type": "code",
      "source": [
        "df_pyspark"
      ],
      "metadata": {
        "colab": {
          "base_uri": "https://localhost:8080/"
        },
        "id": "VZlNqO8WPlAp",
        "outputId": "7f43aa71-4d7c-408e-b1f8-5d0f0bbc27ec"
      },
      "execution_count": null,
      "outputs": [
        {
          "output_type": "execute_result",
          "data": {
            "text/plain": [
              "DataFrame[Order_ID: int, Date: string, Customer_ID: int, Product_ID: string, Product_Name: string, Price: double, Quantity: int]"
            ]
          },
          "metadata": {},
          "execution_count": 7
        }
      ]
    },
    {
      "cell_type": "code",
      "source": [
        "df_pyspark.show()"
      ],
      "metadata": {
        "colab": {
          "base_uri": "https://localhost:8080/"
        },
        "id": "aZNNAl55PwKK",
        "outputId": "73a145bf-a854-4f8c-9d32-53f7e8c4d9a0"
      },
      "execution_count": null,
      "outputs": [
        {
          "output_type": "stream",
          "name": "stdout",
          "text": [
            "+--------+----------+-----------+----------+------------+------+--------+\n",
            "|Order_ID|      Date|Customer_ID|Product_ID|Product_Name| Price|Quantity|\n",
            "+--------+----------+-----------+----------+------------+------+--------+\n",
            "|       1|01-01-2024|       1001|     P1001|    Widget A|  NULL|       2|\n",
            "|       2|02-01-2024|       1002|     P1002|    Widget B| 29.99|       1|\n",
            "|       3|03-01-2024|       1003|     P1003|    Widget C| 19.99|       3|\n",
            "|       4|04-01-2024|       1004|     P1004|    Widget D| 99.99|       1|\n",
            "|       5|05-01-2024|       1005|     P1005|    Widget E|149.99|       2|\n",
            "|       6|06-01-2024|       NULL|     P1006|    Widget F| 39.99|       1|\n",
            "|       7|07-01-2024|       1002|     P1007|    Widget G| 79.99|       2|\n",
            "|       8|08-01-2024|       1003|     P1008|    Widget H| 49.99|       1|\n",
            "|       9|09-01-2024|       1004|     P1009|    Widget I|199.99|       1|\n",
            "|      10|10-01-2024|       1005|     P1010|    Widget J|  NULL|       3|\n",
            "|      11|11-01-2024|       1001|     P1001|    Widget A| 49.99|       2|\n",
            "|      12|12-01-2024|       1002|     P1002|    Widget B| 29.99|       2|\n",
            "|      13|13-01-2024|       1003|     P1003|    Widget C| 19.99|       1|\n",
            "|      14|14-01-2024|       1004|     P1004|    Widget D| 99.99|       3|\n",
            "|      15|15-01-2024|       1005|     P1005|    Widget E|149.99|       1|\n",
            "|      16|16-01-2024|       NULL|     P1006|    Widget F| 39.99|       2|\n",
            "|      17|17-01-2024|       1007|     P1007|    Widget G| 79.99|       1|\n",
            "|      18|18-01-2024|       NULL|     P1008|    Widget H| 49.99|       2|\n",
            "|      19|19-01-2024|       1009|     P1009|    Widget I|199.99|       1|\n",
            "|      20|20-01-2024|       1010|     P1010|    Widget J| 99.99|       4|\n",
            "+--------+----------+-----------+----------+------------+------+--------+\n",
            "only showing top 20 rows\n",
            "\n"
          ]
        }
      ]
    },
    {
      "cell_type": "code",
      "source": [
        "df_pyspark=df_pyspark.drop('Date')"
      ],
      "metadata": {
        "id": "d8ailBvCP2cv"
      },
      "execution_count": null,
      "outputs": []
    },
    {
      "cell_type": "code",
      "source": [
        "df_pyspark.show()"
      ],
      "metadata": {
        "colab": {
          "base_uri": "https://localhost:8080/"
        },
        "id": "EO_eTWYhQDB2",
        "outputId": "76d44e1b-a8f5-4d63-bbf0-a3d7ee5bff7f"
      },
      "execution_count": null,
      "outputs": [
        {
          "output_type": "stream",
          "name": "stdout",
          "text": [
            "+--------+-----------+----------+------------+------+--------+\n",
            "|Order_ID|Customer_ID|Product_ID|Product_Name| Price|Quantity|\n",
            "+--------+-----------+----------+------------+------+--------+\n",
            "|       1|       1001|     P1001|    Widget A|  NULL|       2|\n",
            "|       2|       1002|     P1002|    Widget B| 29.99|       1|\n",
            "|       3|       1003|     P1003|    Widget C| 19.99|       3|\n",
            "|       4|       1004|     P1004|    Widget D| 99.99|       1|\n",
            "|       5|       1005|     P1005|    Widget E|149.99|       2|\n",
            "|       6|       NULL|     P1006|    Widget F| 39.99|       1|\n",
            "|       7|       1002|     P1007|    Widget G| 79.99|       2|\n",
            "|       8|       1003|     P1008|    Widget H| 49.99|       1|\n",
            "|       9|       1004|     P1009|    Widget I|199.99|       1|\n",
            "|      10|       1005|     P1010|    Widget J|  NULL|       3|\n",
            "|      11|       1001|     P1001|    Widget A| 49.99|       2|\n",
            "|      12|       1002|     P1002|    Widget B| 29.99|       2|\n",
            "|      13|       1003|     P1003|    Widget C| 19.99|       1|\n",
            "|      14|       1004|     P1004|    Widget D| 99.99|       3|\n",
            "|      15|       1005|     P1005|    Widget E|149.99|       1|\n",
            "|      16|       NULL|     P1006|    Widget F| 39.99|       2|\n",
            "|      17|       1007|     P1007|    Widget G| 79.99|       1|\n",
            "|      18|       NULL|     P1008|    Widget H| 49.99|       2|\n",
            "|      19|       1009|     P1009|    Widget I|199.99|       1|\n",
            "|      20|       1010|     P1010|    Widget J| 99.99|       4|\n",
            "+--------+-----------+----------+------------+------+--------+\n",
            "only showing top 20 rows\n",
            "\n"
          ]
        }
      ]
    },
    {
      "cell_type": "code",
      "source": [
        "df_pyspark=df_pyspark.na.drop(how=\"any\",subset=['Customer_ID','Product_ID'])\n",
        "df_pyspark=df_pyspark.dropDuplicates()"
      ],
      "metadata": {
        "id": "jhejanCLRvFv"
      },
      "execution_count": null,
      "outputs": []
    },
    {
      "cell_type": "code",
      "source": [
        "df_pyspark.show()"
      ],
      "metadata": {
        "colab": {
          "base_uri": "https://localhost:8080/"
        },
        "id": "9ZpZ-cNTR_Tv",
        "outputId": "b8dafe31-aba7-4bd9-ab78-b5d8d1566583"
      },
      "execution_count": null,
      "outputs": [
        {
          "output_type": "stream",
          "name": "stdout",
          "text": [
            "+--------+-----------+----------+------------+------+--------+\n",
            "|Order_ID|Customer_ID|Product_ID|Product_Name| Price|Quantity|\n",
            "+--------+-----------+----------+------------+------+--------+\n",
            "|       3|       1003|     P1003|    Widget C| 19.99|       3|\n",
            "|      43|       1008|     P1004|    Widget D| 99.99|       2|\n",
            "|       4|       1004|     P1004|    Widget D| 99.99|       1|\n",
            "|       7|       1002|     P1007|    Widget G| 79.99|       2|\n",
            "|      37|       1002|     P1008|    Widget H| 49.99|       1|\n",
            "|      40|       1005|     P1001|    Widget A| 49.99|       4|\n",
            "|       9|       1004|     P1009|    Widget I|199.99|       1|\n",
            "|      22|       1007|     P1002|    Widget B| 29.99|       1|\n",
            "|       8|       1003|     P1008|    Widget H| 49.99|       1|\n",
            "|      38|       1003|     P1009|    Widget I|199.99|       2|\n",
            "|       2|       1002|     P1002|    Widget B| 29.99|       1|\n",
            "|      41|       1006|     P1002|    Widget B| 29.99|       1|\n",
            "|      27|       1002|     P1008|    Widget H| 49.99|       1|\n",
            "|      29|       1004|     P1010|    Widget J| 99.99|       1|\n",
            "|      17|       1007|     P1007|    Widget G| 79.99|       1|\n",
            "|      15|       1005|     P1005|    Widget E|149.99|       1|\n",
            "|      47|       1002|     P1008|    Widget H| 49.99|       1|\n",
            "|      33|       1008|     P1004|    Widget D| 99.99|       1|\n",
            "|      36|       1001|     P1007|    Widget G| 79.99|       2|\n",
            "|       5|       1005|     P1005|    Widget E|149.99|       2|\n",
            "+--------+-----------+----------+------------+------+--------+\n",
            "only showing top 20 rows\n",
            "\n"
          ]
        }
      ]
    },
    {
      "cell_type": "code",
      "source": [
        "from pyspark.ml.feature import Imputer\n",
        "\n",
        "imputer = Imputer(\n",
        "    inputCols=['Price'],\n",
        "    outputCols=[\"{}_imputed\".format(c) for c in ['Price']]\n",
        "    ).setStrategy(\"mode\")"
      ],
      "metadata": {
        "id": "O9N3jV5ESJX6"
      },
      "execution_count": null,
      "outputs": []
    },
    {
      "cell_type": "code",
      "source": [
        "imputed_df = imputer.fit(df_pyspark).transform(df_pyspark)\n",
        "imputed_df.show()"
      ],
      "metadata": {
        "colab": {
          "base_uri": "https://localhost:8080/"
        },
        "id": "GYKIzht4Sf39",
        "outputId": "b416cd98-fcc6-43f8-d460-1380413a009e"
      },
      "execution_count": null,
      "outputs": [
        {
          "output_type": "stream",
          "name": "stdout",
          "text": [
            "+--------+-----------+----------+------------+------+--------+-------------+\n",
            "|Order_ID|Customer_ID|Product_ID|Product_Name| Price|Quantity|Price_imputed|\n",
            "+--------+-----------+----------+------------+------+--------+-------------+\n",
            "|       3|       1003|     P1003|    Widget C| 19.99|       3|        19.99|\n",
            "|      43|       1008|     P1004|    Widget D| 99.99|       2|        99.99|\n",
            "|       4|       1004|     P1004|    Widget D| 99.99|       1|        99.99|\n",
            "|       7|       1002|     P1007|    Widget G| 79.99|       2|        79.99|\n",
            "|      37|       1002|     P1008|    Widget H| 49.99|       1|        49.99|\n",
            "|      40|       1005|     P1001|    Widget A| 49.99|       4|        49.99|\n",
            "|       9|       1004|     P1009|    Widget I|199.99|       1|       199.99|\n",
            "|      22|       1007|     P1002|    Widget B| 29.99|       1|        29.99|\n",
            "|       8|       1003|     P1008|    Widget H| 49.99|       1|        49.99|\n",
            "|      38|       1003|     P1009|    Widget I|199.99|       2|       199.99|\n",
            "|       2|       1002|     P1002|    Widget B| 29.99|       1|        29.99|\n",
            "|      41|       1006|     P1002|    Widget B| 29.99|       1|        29.99|\n",
            "|      27|       1002|     P1008|    Widget H| 49.99|       1|        49.99|\n",
            "|      29|       1004|     P1010|    Widget J| 99.99|       1|        99.99|\n",
            "|      17|       1007|     P1007|    Widget G| 79.99|       1|        79.99|\n",
            "|      15|       1005|     P1005|    Widget E|149.99|       1|       149.99|\n",
            "|      47|       1002|     P1008|    Widget H| 49.99|       1|        49.99|\n",
            "|      33|       1008|     P1004|    Widget D| 99.99|       1|        99.99|\n",
            "|      36|       1001|     P1007|    Widget G| 79.99|       2|        79.99|\n",
            "|       5|       1005|     P1005|    Widget E|149.99|       2|       149.99|\n",
            "+--------+-----------+----------+------------+------+--------+-------------+\n",
            "only showing top 20 rows\n",
            "\n"
          ]
        }
      ]
    },
    {
      "cell_type": "code",
      "source": [
        "imputed_df=imputed_df.drop('Price')\n",
        "imputed_df.show()"
      ],
      "metadata": {
        "colab": {
          "base_uri": "https://localhost:8080/"
        },
        "id": "sip7IvzfSy-N",
        "outputId": "a13271a1-deae-405c-a4c5-d79b94e47b1f"
      },
      "execution_count": null,
      "outputs": [
        {
          "output_type": "stream",
          "name": "stdout",
          "text": [
            "+--------+-----------+----------+------------+--------+-------------+\n",
            "|Order_ID|Customer_ID|Product_ID|Product_Name|Quantity|Price_imputed|\n",
            "+--------+-----------+----------+------------+--------+-------------+\n",
            "|       3|       1003|     P1003|    Widget C|       3|        19.99|\n",
            "|      43|       1008|     P1004|    Widget D|       2|        99.99|\n",
            "|       4|       1004|     P1004|    Widget D|       1|        99.99|\n",
            "|       7|       1002|     P1007|    Widget G|       2|        79.99|\n",
            "|      37|       1002|     P1008|    Widget H|       1|        49.99|\n",
            "|      40|       1005|     P1001|    Widget A|       4|        49.99|\n",
            "|       9|       1004|     P1009|    Widget I|       1|       199.99|\n",
            "|      22|       1007|     P1002|    Widget B|       1|        29.99|\n",
            "|       8|       1003|     P1008|    Widget H|       1|        49.99|\n",
            "|      38|       1003|     P1009|    Widget I|       2|       199.99|\n",
            "|       2|       1002|     P1002|    Widget B|       1|        29.99|\n",
            "|      41|       1006|     P1002|    Widget B|       1|        29.99|\n",
            "|      27|       1002|     P1008|    Widget H|       1|        49.99|\n",
            "|      29|       1004|     P1010|    Widget J|       1|        99.99|\n",
            "|      17|       1007|     P1007|    Widget G|       1|        79.99|\n",
            "|      15|       1005|     P1005|    Widget E|       1|       149.99|\n",
            "|      47|       1002|     P1008|    Widget H|       1|        49.99|\n",
            "|      33|       1008|     P1004|    Widget D|       1|        99.99|\n",
            "|      36|       1001|     P1007|    Widget G|       2|        79.99|\n",
            "|       5|       1005|     P1005|    Widget E|       2|       149.99|\n",
            "+--------+-----------+----------+------------+--------+-------------+\n",
            "only showing top 20 rows\n",
            "\n"
          ]
        }
      ]
    },
    {
      "cell_type": "code",
      "source": [
        "from pyspark.sql.functions import col, format_number\n",
        "df = imputed_df.withColumn(\"Total_Price\", col(\"Quantity\") * col(\"Price_imputed\"))\n",
        "df = df.withColumn(\"Total_Price\", format_number(col(\"Total_Price\"), 2))"
      ],
      "metadata": {
        "id": "7NwzSykGTOK5"
      },
      "execution_count": null,
      "outputs": []
    },
    {
      "cell_type": "code",
      "source": [
        "df.show()"
      ],
      "metadata": {
        "colab": {
          "base_uri": "https://localhost:8080/"
        },
        "id": "eanF32YeT1_2",
        "outputId": "640bb0f8-e0d1-4a2e-fb9d-374ebc755ff1"
      },
      "execution_count": null,
      "outputs": [
        {
          "output_type": "stream",
          "name": "stdout",
          "text": [
            "+--------+-----------+----------+------------+--------+-------------+-----------+\n",
            "|Order_ID|Customer_ID|Product_ID|Product_Name|Quantity|Price_imputed|Total_Price|\n",
            "+--------+-----------+----------+------------+--------+-------------+-----------+\n",
            "|       3|       1003|     P1003|    Widget C|       3|        19.99|      59.97|\n",
            "|      43|       1008|     P1004|    Widget D|       2|        99.99|     199.98|\n",
            "|       4|       1004|     P1004|    Widget D|       1|        99.99|      99.99|\n",
            "|       7|       1002|     P1007|    Widget G|       2|        79.99|     159.98|\n",
            "|      37|       1002|     P1008|    Widget H|       1|        49.99|      49.99|\n",
            "|      40|       1005|     P1001|    Widget A|       4|        49.99|     199.96|\n",
            "|       9|       1004|     P1009|    Widget I|       1|       199.99|     199.99|\n",
            "|      22|       1007|     P1002|    Widget B|       1|        29.99|      29.99|\n",
            "|       8|       1003|     P1008|    Widget H|       1|        49.99|      49.99|\n",
            "|      38|       1003|     P1009|    Widget I|       2|       199.99|     399.98|\n",
            "|       2|       1002|     P1002|    Widget B|       1|        29.99|      29.99|\n",
            "|      41|       1006|     P1002|    Widget B|       1|        29.99|      29.99|\n",
            "|      27|       1002|     P1008|    Widget H|       1|        49.99|      49.99|\n",
            "|      29|       1004|     P1010|    Widget J|       1|        99.99|      99.99|\n",
            "|      17|       1007|     P1007|    Widget G|       1|        79.99|      79.99|\n",
            "|      15|       1005|     P1005|    Widget E|       1|       149.99|     149.99|\n",
            "|      47|       1002|     P1008|    Widget H|       1|        49.99|      49.99|\n",
            "|      33|       1008|     P1004|    Widget D|       1|        99.99|      99.99|\n",
            "|      36|       1001|     P1007|    Widget G|       2|        79.99|     159.98|\n",
            "|       5|       1005|     P1005|    Widget E|       2|       149.99|     299.98|\n",
            "+--------+-----------+----------+------------+--------+-------------+-----------+\n",
            "only showing top 20 rows\n",
            "\n"
          ]
        }
      ]
    },
    {
      "cell_type": "code",
      "source": [
        "df.write.csv(\"cleaned_data.csv\", header=True)"
      ],
      "metadata": {
        "id": "qgPv3Tkgv4sV"
      },
      "execution_count": null,
      "outputs": []
    },
    {
      "cell_type": "code",
      "source": [
        "total_sales_by_product = df.groupBy(\"Product_ID\") \\\n",
        "    .agg(format_number(sum(col(\"Total_Price\")), 2).alias(\"Total_Sales_Amount\")) \\\n",
        "    .orderBy(\"Product_ID\")\n",
        "\n",
        "# Show the result\n",
        "total_sales_by_product.show()"
      ],
      "metadata": {
        "colab": {
          "base_uri": "https://localhost:8080/"
        },
        "id": "6cuVXNiJthWa",
        "outputId": "586740f9-ee82-465f-aa6c-8f2f140cf30d"
      },
      "execution_count": null,
      "outputs": [
        {
          "output_type": "stream",
          "name": "stdout",
          "text": [
            "+----------+------------------+\n",
            "|Product_ID|Total_Sales_Amount|\n",
            "+----------+------------------+\n",
            "|     P1001|            649.87|\n",
            "|     P1002|            209.93|\n",
            "|     P1003|             99.95|\n",
            "|     P1004|            899.91|\n",
            "|     P1005|          1,799.88|\n",
            "|     P1006|            119.97|\n",
            "|     P1007|            559.93|\n",
            "|     P1008|            199.96|\n",
            "|     P1009|          1,599.92|\n",
            "|     P1010|            749.91|\n",
            "+----------+------------------+\n",
            "\n"
          ]
        }
      ]
    },
    {
      "cell_type": "code",
      "source": [
        "# Stop the SparkSession\n",
        "spark.stop()"
      ],
      "metadata": {
        "id": "Qh29SCPsv8Oh"
      },
      "execution_count": null,
      "outputs": []
    }
  ]
}